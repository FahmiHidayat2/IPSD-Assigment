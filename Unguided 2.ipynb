{
 "cells": [
  {
   "cell_type": "code",
   "execution_count": 1,
   "id": "c1bee73d-f855-4e51-8a86-fbbb7ec4b512",
   "metadata": {},
   "outputs": [
    {
     "name": "stdout",
     "output_type": "stream",
     "text": [
      "2 \n",
      "3 5 \n",
      "7 11 13 \n",
      "17 19 23 29 \n",
      "31 37 41 43 47 \n"
     ]
    }
   ],
   "source": [
    "def is_prime(n):\n",
    "    if n < 2:\n",
    "        return False\n",
    "    for i in range(2, int(n ** 0.5) + 1):\n",
    "        if n % i == 0:\n",
    "            return False\n",
    "    return True\n",
    "def generate_primes(limit):\n",
    "    primes = []\n",
    "    num = 2\n",
    "    while len(primes) < limit:\n",
    "        if is_prime(num):\n",
    "            primes.append(num)\n",
    "        num += 1\n",
    "    return primes\n",
    "def print_prime_pattern(rows):\n",
    "    total_numbers_needed = sum(range(1, rows + 1))\n",
    "    primes = generate_primes(total_numbers_needed)\n",
    "    index = 0\n",
    "    for row in range(1, rows + 1):\n",
    "        for col in range(row):\n",
    "            print(primes[index], end=\" \")\n",
    "            index += 1\n",
    "        print() \n",
    "print_prime_pattern(5)\n"
   ]
  },
  {
   "cell_type": "code",
   "execution_count": null,
   "id": "0453400c-614a-427e-9b5c-045b3c0fb694",
   "metadata": {},
   "outputs": [],
   "source": []
  }
 ],
 "metadata": {
  "kernelspec": {
   "display_name": "Python 3 (ipykernel)",
   "language": "python",
   "name": "python3"
  },
  "language_info": {
   "codemirror_mode": {
    "name": "ipython",
    "version": 3
   },
   "file_extension": ".py",
   "mimetype": "text/x-python",
   "name": "python",
   "nbconvert_exporter": "python",
   "pygments_lexer": "ipython3",
   "version": "3.12.4"
  }
 },
 "nbformat": 4,
 "nbformat_minor": 5
}
