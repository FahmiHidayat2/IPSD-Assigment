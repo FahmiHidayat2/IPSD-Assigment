{
 "cells": [
  {
   "cell_type": "code",
   "execution_count": 1,
   "id": "c1bee73d-f855-4e51-8a86-fbbb7ec4b512",
   "metadata": {},
   "outputs": [
    {
     "name": "stdout",
     "output_type": "stream",
     "text": [
      "2 \n",
      "3 5 \n",
      "7 11 13 \n",
      "17 19 23 29 \n",
      "31 37 41 43 47 \n"
     ]
    }
   ],
   "source": [
    "def minimum_coin_change(coins, amount):\n",
    "    dp = [float('inf')] * (amount + 1)\n",
    "    dp[0] = 0  \n",
    "\n",
    "    for coin in coins:\n",
    "        for x in range(coin, amount + 1):\n",
    "            dp[x] = min(dp[x], dp[x - coin] + 1)\n",
    "\n",
    "    if dp[amount] == float('inf'):\n",
    "        return -1\n",
    "    \n",
    "    return dp[amount]\n",
    "\n",
    "def main():\n",
    "    try:\n",
    "        amount = int(input(\"Masukkan jumlah uang yang ingin dicapai: \"))\n",
    "        coins = list(map(int, input(\"Masukkan daftar nilai koin (pisahkan dengan spasi): \").split()))\n",
    "        \n",
    "        result = minimum_coin_change(coins, amount)\n",
    "        \n",
    "        if result == -1:\n",
    "            print(\"Tidak ada kombinasi koin yang dapat mencapai jumlah uang tersebut.\")\n",
    "        else:\n",
    "            print(f\"Kombinasi minimum koin yang diperlukan: {result}\")\n",
    "    except ValueError:\n",
    "        print(\"Masukkan angka yang valid.\")\n",
    "main()\n"
   ]
  },
  {
   "cell_type": "code",
   "execution_count": null,
   "id": "0453400c-614a-427e-9b5c-045b3c0fb694",
   "metadata": {},
   "outputs": [],
   "source": []
  }
 ],
 "metadata": {
  "kernelspec": {
   "display_name": "Python 3 (ipykernel)",
   "language": "python",
   "name": "python3"
  },
  "language_info": {
   "codemirror_mode": {
    "name": "ipython",
    "version": 3
   },
   "file_extension": ".py",
   "mimetype": "text/x-python",
   "name": "python",
   "nbconvert_exporter": "python",
   "pygments_lexer": "ipython3",
   "version": "3.12.4"
  }
 },
 "nbformat": 4,
 "nbformat_minor": 5
}
