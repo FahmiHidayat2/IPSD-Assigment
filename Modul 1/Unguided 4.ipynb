{
 "cells": [
  {
   "cell_type": "code",
   "execution_count": 1,
   "id": "c1bee73d-f855-4e51-8a86-fbbb7ec4b512",
   "metadata": {},
   "outputs": [
    {
     "name": "stdout",
     "output_type": "stream",
     "text": [
      "2 \n",
      "3 5 \n",
      "7 11 13 \n",
      "17 19 23 29 \n",
      "31 37 41 43 47 \n"
     ]
    }
   ],
   "source": [
    "import csv\n",
    "\n",
    "def baca_data_csv(file_name):\n",
    "    data_mahasiswa = {}\n",
    "    with open(file_name, mode='r') as file:\n",
    "        reader = csv.reader(file)\n",
    "        header = next(reader)\n",
    "        \n",
    "        for row in reader:\n",
    "            nama = row[0]\n",
    "            nilai = list(map(float, row[1:]))\n",
    "            data_mahasiswa[nama] = nilai\n",
    "            \n",
    "    return data_mahasiswa\n",
    "\n",
    "def hitung_rata_rata(data_mahasiswa):\n",
    "    rata_rata = {}\n",
    "    for nama, nilai in data_mahasiswa.items():\n",
    "        rata_rata[nama] = sum(nilai) / len(nilai)\n",
    "    return rata_rata\n",
    "\n",
    "def mahasiswa_tertinggi_terendah(rata_rata):\n",
    "    mahasiswa_tertinggi = max(rata_rata, key=rata_rata.get)\n",
    "    mahasiswa_terendah = min(rata_rata, key=rata_rata.get)\n",
    "    return mahasiswa_tertinggi, mahasiswa_terendah\n",
    "\n",
    "def main():\n",
    "    file_name = 'Nilai Siswa.csv'\n",
    "    data_mahasiswa = baca_data_csv(file_name)\n",
    "    rata_rata = hitung_rata_rata(data_mahasiswa)\n",
    "    mahasiswa_tertinggi, mahasiswa_terendah = mahasiswa_tertinggi_terendah(rata_rata)\n",
    "    print(\"Rata-rata nilai tiap mahasiswa:\")\n",
    "    for nama, rata in rata_rata.items():\n",
    "        print(f\"{nama}: {rata:.2f}\")\n",
    "    \n",
    "    print(f\"\\nMahasiswa dengan nilai tertinggi: {mahasiswa_tertinggi} ({rata_rata[mahasiswa_tertinggi]:.2f})\")\n",
    "    print(f\"Mahasiswa dengan nilai terendah: {mahasiswa_terendah} ({rata_rata[mahasiswa_terendah]:.2f})\")\n",
    "if __name__ == \"__main__\":\n",
    "    main()\n"
   ]
  },
  {
   "cell_type": "code",
   "execution_count": null,
   "id": "0453400c-614a-427e-9b5c-045b3c0fb694",
   "metadata": {},
   "outputs": [],
   "source": []
  }
 ],
 "metadata": {
  "kernelspec": {
   "display_name": "Python 3 (ipykernel)",
   "language": "python",
   "name": "python3"
  },
  "language_info": {
   "codemirror_mode": {
    "name": "ipython",
    "version": 3
   },
   "file_extension": ".py",
   "mimetype": "text/x-python",
   "name": "python",
   "nbconvert_exporter": "python",
   "pygments_lexer": "ipython3",
   "version": "3.12.4"
  }
 },
 "nbformat": 4,
 "nbformat_minor": 5
}
