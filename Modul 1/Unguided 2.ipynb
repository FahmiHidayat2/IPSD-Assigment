{
 "cells": [
  {
   "cell_type": "code",
   "execution_count": 1,
   "id": "c1bee73d-f855-4e51-8a86-fbbb7ec4b512",
   "metadata": {},
   "outputs": [
    {
     "name": "stdout",
     "output_type": "stream",
     "text": [
      "2 \n",
      "3 5 \n",
      "7 11 13 \n",
      "17 19 23 29 \n",
      "31 37 41 43 47 \n"
     ]
    }
   ],
   "source": [
    "def gabung_ganjil_urut(list1, list2):\n",
    "    hasil = [x for i, x in enumerate(list1 + list2) if i % 2 != 0]\n",
    "    return sorted(hasil, reverse=True)\n",
    "\n",
    "list1 = [1, 3, 5]\n",
    "list2 = [7, 5, 9, 10, 11,]\n",
    "\n",
    "hasil = gabung_ganjil_urut(list1, list2)\n",
    "print(hasil)"
   ]
  },
  {
   "cell_type": "code",
   "execution_count": null,
   "id": "0453400c-614a-427e-9b5c-045b3c0fb694",
   "metadata": {},
   "outputs": [],
   "source": []
  }
 ],
 "metadata": {
  "kernelspec": {
   "display_name": "Python 3 (ipykernel)",
   "language": "python",
   "name": "python3"
  },
  "language_info": {
   "codemirror_mode": {
    "name": "ipython",
    "version": 3
   },
   "file_extension": ".py",
   "mimetype": "text/x-python",
   "name": "python",
   "nbconvert_exporter": "python",
   "pygments_lexer": "ipython3",
   "version": "3.12.4"
  }
 },
 "nbformat": 4,
 "nbformat_minor": 5
}
