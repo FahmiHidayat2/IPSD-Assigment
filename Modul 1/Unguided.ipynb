{
 "cells": [
  {
   "cell_type": "code",
   "execution_count": 5,
   "id": "9d83d997-f42b-4375-b70b-2c662027776c",
   "metadata": {},
   "outputs": [
    {
     "name": "stdout",
     "output_type": "stream",
     "text": [
      "2 \n",
      "3 5 \n",
      "7 11 13 \n",
      "17 19 23 29 \n",
      "31 37 41 43 47 \n"
     ]
    }
   ],
   "source": [
    "def is_prime(n):\n",
    "    if n < 2:\n",
    "        return False\n",
    "    for i in range(2, int(n ** 0.5) + 1):\n",
    "        if n % i == 0:\n",
    "            return False\n",
    "    return True\n",
    "def generate_primes(limit):\n",
    "    primes = []\n",
    "    num = 2\n",
    "    while len(primes) < limit:\n",
    "        if is_prime(num):\n",
    "            primes.append(num)\n",
    "        num += 1\n",
    "    return primes\n",
    "def print_prime_pattern(rows):\n",
    "    total_numbers_needed = sum(range(1, rows + 1))\n",
    "    primes = generate_primes(total_numbers_needed)\n",
    "    index = 0\n",
    "    for row in range(1, rows + 1):\n",
    "        for col in range(row):\n",
    "            print(primes[index], end=\" \")\n",
    "            index += 1\n",
    "        print() \n",
    "print_prime_pattern(5)\n"
   ]
  },
  {
   "cell_type": "code",
   "execution_count": 33,
   "id": "a06acaa8-ae15-4e73-bdc2-8f2645a0314f",
   "metadata": {},
   "outputs": [
    {
     "name": "stdout",
     "output_type": "stream",
     "text": [
      "[11, 9, 7, 3]\n"
     ]
    }
   ],
   "source": [
    "def gabung_ganjil_urut(list1, list2):\n",
    "    hasil = [x for i, x in enumerate(list1 + list2) if i % 2 != 0]\n",
    "    return sorted(hasil, reverse=True)\n",
    "\n",
    "list1 = [1, 3, 5]\n",
    "list2 = [7, 5, 9, 10, 11,]\n",
    "\n",
    "hasil = gabung_ganjil_urut(list1, list2)\n",
    "print(hasil)"
   ]
  },
  {
   "cell_type": "code",
   "execution_count": 38,
   "id": "d1852b4d-59fb-4b35-868b-72ed2627a313",
   "metadata": {},
   "outputs": [
    {
     "name": "stdin",
     "output_type": "stream",
     "text": [
      "Masukkan PIN Anda:  1234\n"
     ]
    },
    {
     "name": "stdout",
     "output_type": "stream",
     "text": [
      "PIN benar!\n"
     ]
    },
    {
     "name": "stdin",
     "output_type": "stream",
     "text": [
      "Masukkan jumlah penarikan:  1500000\n"
     ]
    },
    {
     "name": "stdout",
     "output_type": "stream",
     "text": [
      "Saldo tidak mencukupi. Saldo Anda: 1000000\n"
     ]
    },
    {
     "name": "stdin",
     "output_type": "stream",
     "text": [
      "Masukkan jumlah penarikan:  900000\n"
     ]
    },
    {
     "name": "stdout",
     "output_type": "stream",
     "text": [
      "Penarikan berhasil. Saldo akhir Anda: 100000\n"
     ]
    }
   ],
   "source": [
    "def atm_simulation():\n",
    "    correct_pin = \"1234\"\n",
    "    saldo = 1000000\n",
    "    max_attempts = 3\n",
    "    attempts = 0\n",
    "    while attempts < max_attempts:\n",
    "        pin = input(\"Masukkan PIN Anda: \")\n",
    "        if pin == correct_pin:\n",
    "            print(\"PIN benar!\")\n",
    "            break\n",
    "        else:\n",
    "            attempts += 1\n",
    "            print(f\"PIN salah. {max_attempts - attempts} percobaan tersisa.\")\n",
    "    else:\n",
    "        print(\"Anda telah mencapai batas percobaan. Kartu diblokir.\")\n",
    "        return\n",
    "    while True:\n",
    "        try:\n",
    "            tarik = int(input(\"Masukkan jumlah penarikan: \"))\n",
    "            if tarik > saldo:\n",
    "                print(f\"Saldo tidak mencukupi. Saldo Anda: {saldo}\")\n",
    "            else:\n",
    "                saldo -= tarik\n",
    "                print(f\"Penarikan berhasil. Saldo akhir Anda: {saldo}\")\n",
    "                break\n",
    "        except ValueError:\n",
    "            print(\"Masukkan jumlah penarikan yang valid.\")\n",
    "atm_simulation()\n"
   ]
  },
  {
   "cell_type": "code",
   "execution_count": 76,
   "id": "a53c27fc-d09e-4c7b-8d15-4673659ceb90",
   "metadata": {},
   "outputs": [
    {
     "name": "stdout",
     "output_type": "stream",
     "text": [
      "Rata-rata nilai tiap mahasiswa:\n",
      "Siswa_1: 59.00\n",
      "Siswa_2: 79.00\n",
      "Siswa_3: 61.00\n",
      "Siswa_4: 74.00\n",
      "Siswa_5: 50.00\n",
      "Siswa_6: 70.00\n",
      "Siswa_7: 100.00\n",
      "Siswa_8: 84.00\n",
      "Siswa_9: 78.00\n",
      "Siswa_10: 61.00\n",
      "Siswa_11: 92.00\n",
      "Siswa_12: 60.00\n",
      "Siswa_13: 78.00\n",
      "Siswa_14: 87.00\n",
      "Siswa_15: 57.00\n",
      "Siswa_16: 73.00\n",
      "Siswa_17: 53.00\n",
      "Siswa_18: 54.00\n",
      "Siswa_19: 97.00\n",
      "Siswa_20: 52.00\n",
      "Siswa_21: 84.00\n",
      "Siswa_22: 89.00\n",
      "Siswa_23: 52.00\n",
      "Siswa_24: 90.00\n",
      "Siswa_25: 52.00\n",
      "Siswa_26: 64.00\n",
      "Siswa_27: 96.00\n",
      "Siswa_28: 100.00\n",
      "Siswa_29: 84.00\n",
      "Siswa_30: 60.00\n",
      "Siswa_31: 85.00\n",
      "Siswa_32: 63.00\n",
      "Siswa_33: 64.00\n",
      "Siswa_34: 68.00\n",
      "Siswa_35: 67.00\n",
      "Siswa_36: 52.00\n",
      "Siswa_37: 79.00\n",
      "Siswa_38: 55.00\n",
      "Siswa_39: 88.00\n",
      "Siswa_40: 95.00\n",
      "Siswa_41: 78.00\n",
      "Siswa_42: 66.00\n",
      "Siswa_43: 71.00\n",
      "Siswa_44: 64.00\n",
      "Siswa_45: 51.00\n",
      "Siswa_46: 77.00\n",
      "Siswa_47: 90.00\n",
      "Siswa_48: 83.00\n",
      "Siswa_49: 99.00\n",
      "Siswa_50: 56.00\n",
      "Siswa_51: 68.00\n",
      "Siswa_52: 88.00\n",
      "Siswa_53: 62.00\n",
      "Siswa_54: 98.00\n",
      "Siswa_55: 58.00\n",
      "Siswa_56: 92.00\n",
      "Siswa_57: 60.00\n",
      "Siswa_58: 55.00\n",
      "Siswa_59: 93.00\n",
      "Siswa_60: 60.00\n",
      "Siswa_61: 53.00\n",
      "Siswa_62: 79.00\n",
      "Siswa_63: 75.00\n",
      "Siswa_64: 83.00\n",
      "Siswa_65: 58.00\n",
      "Siswa_66: 50.00\n",
      "Siswa_67: 75.00\n",
      "Siswa_68: 61.00\n",
      "Siswa_69: 57.00\n",
      "Siswa_70: 98.00\n",
      "Siswa_71: 85.00\n",
      "Siswa_72: 57.00\n",
      "Siswa_73: 53.00\n",
      "Siswa_74: 55.00\n",
      "Siswa_75: 54.00\n",
      "Siswa_76: 64.00\n",
      "Siswa_77: 51.00\n",
      "Siswa_78: 65.00\n",
      "Siswa_79: 68.00\n",
      "Siswa_80: 51.00\n",
      "Siswa_81: 99.00\n",
      "Siswa_82: 89.00\n",
      "Siswa_83: 92.00\n",
      "Siswa_84: 56.00\n",
      "Siswa_85: 96.00\n",
      "Siswa_86: 79.00\n",
      "Siswa_87: 76.00\n",
      "Siswa_88: 71.00\n",
      "Siswa_89: 98.00\n",
      "Siswa_90: 89.00\n",
      "Siswa_91: 92.00\n",
      "Siswa_92: 65.00\n",
      "Siswa_93: 50.00\n",
      "Siswa_94: 84.00\n",
      "Siswa_95: 67.00\n",
      "Siswa_96: 59.00\n",
      "Siswa_97: 57.00\n",
      "Siswa_98: 70.00\n",
      "Siswa_99: 66.00\n",
      "Siswa_100: 78.00\n",
      "\n",
      "Mahasiswa dengan nilai tertinggi: Siswa_7 (100.00)\n",
      "Mahasiswa dengan nilai terendah: Siswa_5 (50.00)\n"
     ]
    }
   ],
   "source": [
    "import csv\n",
    "\n",
    "def baca_data_csv(file_name):\n",
    "    data_mahasiswa = {}\n",
    "    with open(file_name, mode='r') as file:\n",
    "        reader = csv.reader(file)\n",
    "        header = next(reader)\n",
    "        \n",
    "        for row in reader:\n",
    "            nama = row[0]\n",
    "            nilai = list(map(float, row[1:]))\n",
    "            data_mahasiswa[nama] = nilai\n",
    "            \n",
    "    return data_mahasiswa\n",
    "\n",
    "def hitung_rata_rata(data_mahasiswa):\n",
    "    rata_rata = {}\n",
    "    for nama, nilai in data_mahasiswa.items():\n",
    "        rata_rata[nama] = sum(nilai) / len(nilai)\n",
    "    return rata_rata\n",
    "\n",
    "def mahasiswa_tertinggi_terendah(rata_rata):\n",
    "    mahasiswa_tertinggi = max(rata_rata, key=rata_rata.get)\n",
    "    mahasiswa_terendah = min(rata_rata, key=rata_rata.get)\n",
    "    return mahasiswa_tertinggi, mahasiswa_terendah\n",
    "\n",
    "def main():\n",
    "    file_name = 'Nilai Siswa.csv'\n",
    "    data_mahasiswa = baca_data_csv(file_name)\n",
    "    rata_rata = hitung_rata_rata(data_mahasiswa)\n",
    "    mahasiswa_tertinggi, mahasiswa_terendah = mahasiswa_tertinggi_terendah(rata_rata)\n",
    "    print(\"Rata-rata nilai tiap mahasiswa:\")\n",
    "    for nama, rata in rata_rata.items():\n",
    "        print(f\"{nama}: {rata:.2f}\")\n",
    "    \n",
    "    print(f\"\\nMahasiswa dengan nilai tertinggi: {mahasiswa_tertinggi} ({rata_rata[mahasiswa_tertinggi]:.2f})\")\n",
    "    print(f\"Mahasiswa dengan nilai terendah: {mahasiswa_terendah} ({rata_rata[mahasiswa_terendah]:.2f})\")\n",
    "if __name__ == \"__main__\":\n",
    "    main()\n"
   ]
  },
  {
   "cell_type": "code",
   "execution_count": 40,
   "id": "4d426960-4881-47a3-8383-2669ccb364ca",
   "metadata": {},
   "outputs": [
    {
     "name": "stdout",
     "output_type": "stream",
     "text": [
      "Selamat datang di permainan Tebak Angka!\n",
      "Saya telah memilih sebuah angka antara 1 hingga 100.\n",
      "Anda memiliki 5 percobaan untuk menebak angka tersebut.\n"
     ]
    },
    {
     "name": "stdin",
     "output_type": "stream",
     "text": [
      "Tebakan ke-1:  50\n"
     ]
    },
    {
     "name": "stdout",
     "output_type": "stream",
     "text": [
      "Tebakan Anda terlalu kecil.\n"
     ]
    },
    {
     "name": "stdin",
     "output_type": "stream",
     "text": [
      "Tebakan ke-2:  60\n"
     ]
    },
    {
     "name": "stdout",
     "output_type": "stream",
     "text": [
      "Tebakan Anda terlalu kecil.\n"
     ]
    },
    {
     "name": "stdin",
     "output_type": "stream",
     "text": [
      "Tebakan ke-3:  70\n"
     ]
    },
    {
     "name": "stdout",
     "output_type": "stream",
     "text": [
      "Tebakan Anda terlalu besar.\n"
     ]
    },
    {
     "name": "stdin",
     "output_type": "stream",
     "text": [
      "Tebakan ke-4:  65\n"
     ]
    },
    {
     "name": "stdout",
     "output_type": "stream",
     "text": [
      "Tebakan Anda terlalu kecil.\n"
     ]
    },
    {
     "name": "stdin",
     "output_type": "stream",
     "text": [
      "Tebakan ke-5:  67\n"
     ]
    },
    {
     "name": "stdout",
     "output_type": "stream",
     "text": [
      "Tebakan Anda terlalu besar.\n",
      "Maaf, Anda telah kehabisan percobaan. Angka yang benar adalah 66.\n"
     ]
    }
   ],
   "source": [
    "import random\n",
    "\n",
    "def tebak_angka():\n",
    "    angka_rahasia = random.randint(1, 100)\n",
    "    percobaan = 5\n",
    "\n",
    "    print(\"Selamat datang di permainan Tebak Angka!\")\n",
    "    print(\"Saya telah memilih sebuah angka antara 1 hingga 100.\")\n",
    "    print(f\"Anda memiliki {percobaan} percobaan untuk menebak angka tersebut.\")\n",
    "\n",
    "    for i in range(percobaan):\n",
    "        try:\n",
    "            tebakan = int(input(f\"Tebakan ke-{i + 1}: \"))\n",
    "            \n",
    "            if tebakan < 1 or tebakan > 100:\n",
    "                print(\"Tebakan harus antara 1 dan 100. Silakan coba lagi.\")\n",
    "                continue\n",
    "            \n",
    "            if tebakan < angka_rahasia:\n",
    "                print(\"Tebakan Anda terlalu kecil.\")\n",
    "            elif tebakan > angka_rahasia:\n",
    "                print(\"Tebakan Anda terlalu besar.\")\n",
    "            else:\n",
    "                print(f\"Selamat! Anda berhasil menebak angka {angka_rahasia}!\")\n",
    "                break\n",
    "        except ValueError:\n",
    "            print(\"Masukkan angka yang valid.\")\n",
    "\n",
    "    else:\n",
    "        print(f\"Maaf, Anda telah kehabisan percobaan. Angka yang benar adalah {angka_rahasia}.\")\n",
    "\n",
    "tebak_angka()\n"
   ]
  },
  {
   "cell_type": "code",
   "execution_count": 44,
   "id": "5019de91-6129-4b80-9b6f-a11636298b6a",
   "metadata": {},
   "outputs": [
    {
     "name": "stdout",
     "output_type": "stream",
     "text": [
      "[1, 1, 2, 6, 24]\n"
     ]
    }
   ],
   "source": [
    "def factorial_sequence(n):\n",
    "    if n == 0:\n",
    "        return [1]\n",
    "    else:\n",
    "        seq = factorial_sequence(n-1)\n",
    "        seq.append(seq[-1] * n)\n",
    "        return seq\n",
    "\n",
    "n = 4\n",
    "print(factorial_sequence(n))"
   ]
  },
  {
   "cell_type": "code",
   "execution_count": 52,
   "id": "a797b949-efbe-48c0-94e5-ac80d5c95fd5",
   "metadata": {},
   "outputs": [
    {
     "name": "stdin",
     "output_type": "stream",
     "text": [
      "Masukkan jumlah uang yang ingin dicapai:  95\n",
      "Masukkan daftar nilai koin (pisahkan dengan spasi):  10 15 20 25 30 35 40 45 50\n"
     ]
    },
    {
     "name": "stdout",
     "output_type": "stream",
     "text": [
      "Kombinasi minimum koin yang diperlukan: 2\n"
     ]
    }
   ],
   "source": [
    "def minimum_coin_change(coins, amount):\n",
    "    dp = [float('inf')] * (amount + 1)\n",
    "    dp[0] = 0  \n",
    "\n",
    "    for coin in coins:\n",
    "        for x in range(coin, amount + 1):\n",
    "            dp[x] = min(dp[x], dp[x - coin] + 1)\n",
    "\n",
    "    if dp[amount] == float('inf'):\n",
    "        return -1\n",
    "    \n",
    "    return dp[amount]\n",
    "\n",
    "def main():\n",
    "    try:\n",
    "        amount = int(input(\"Masukkan jumlah uang yang ingin dicapai: \"))\n",
    "        coins = list(map(int, input(\"Masukkan daftar nilai koin (pisahkan dengan spasi): \").split()))\n",
    "        \n",
    "        result = minimum_coin_change(coins, amount)\n",
    "        \n",
    "        if result == -1:\n",
    "            print(\"Tidak ada kombinasi koin yang dapat mencapai jumlah uang tersebut.\")\n",
    "        else:\n",
    "            print(f\"Kombinasi minimum koin yang diperlukan: {result}\")\n",
    "    except ValueError:\n",
    "        print(\"Masukkan angka yang valid.\")\n",
    "main()\n"
   ]
  },
  {
   "cell_type": "code",
   "execution_count": 77,
   "id": "e876604c-bc0c-47b9-85b2-e2b5b2ed2b66",
   "metadata": {},
   "outputs": [
    {
     "name": "stdin",
     "output_type": "stream",
     "text": [
      "Masukkan string:  Saya suka membaca komik\n"
     ]
    },
    {
     "name": "stdout",
     "output_type": "stream",
     "text": [
      "['ayaS', 'akus', 'acabmem', 'kimok']\n"
     ]
    }
   ],
   "source": [
    "def reverse_words(input_string):\n",
    "    words = input_string.split()\n",
    "    reversed_words = [word[::-1] for word in words]\n",
    "    return reversed_words\n",
    "def main():\n",
    "    user_input = input(\"Masukkan string: \")\n",
    "    result = reverse_words(user_input)\n",
    "    print(result)\n",
    "main()\n"
   ]
  },
  {
   "cell_type": "code",
   "execution_count": 55,
   "id": "39a91ab1-62e2-4be7-9890-98fe8117ffc3",
   "metadata": {},
   "outputs": [
    {
     "name": "stdout",
     "output_type": "stream",
     "text": [
      "Judul: Cara Bermain Mobile Legend\n",
      "Penulis: Kasparov\n",
      "Tahun Terbit: 2020\n",
      "Usia Buku: 4 tahun\n",
      "\n",
      "Judul: Heavenly Demon can't normal live\n",
      "Penulis: Jane Smith\n",
      "Tahun Terbit: 2018\n",
      "Usia Buku: 6 tahun\n",
      "\n",
      "Judul: One Piece\n",
      "Penulis: Eichiro Oda\n",
      "Tahun Terbit: 2000\n",
      "Usia Buku: 24 tahun\n",
      "\n"
     ]
    }
   ],
   "source": [
    "class Buku:\n",
    "    def __init__(self, judul, penulis, tahun_terbit):\n",
    "        self.judul = judul\n",
    "        self.penulis = penulis\n",
    "        self.tahun_terbit = tahun_terbit\n",
    "\n",
    "    def tampilkan_informasi(self):\n",
    "        print(f\"Judul: {self.judul}\")\n",
    "        print(f\"Penulis: {self.penulis}\")\n",
    "        print(f\"Tahun Terbit: {self.tahun_terbit}\")\n",
    "\n",
    "    def hitung_usia_buku(self):\n",
    "        from datetime import datetime\n",
    "        tahun_sekarang = datetime.now().year\n",
    "        return tahun_sekarang - self.tahun_terbit\n",
    "buku1 = Buku(\"Cara Bermain Mobile Legend\", \"Kasparov\", 2020)\n",
    "buku2 = Buku(\"Heavenly Demon can't normal live\", \"Jane Smith\", 2018)\n",
    "buku3 = Buku(\"One Piece\", \"Eichiro Oda\", 2000)\n",
    "for buku in [buku1, buku2, buku3]:\n",
    "    buku.tampilkan_informasi()\n",
    "    print(f\"Usia Buku: {buku.hitung_usia_buku()} tahun\")\n",
    "    print()  # Menambahkan garis kosong untuk pemisah\n"
   ]
  },
  {
   "cell_type": "code",
   "execution_count": 57,
   "id": "f9adcd46-a808-4977-a7d2-27f62c272c90",
   "metadata": {},
   "outputs": [
    {
     "name": "stdin",
     "output_type": "stream",
     "text": [
      "Masukkan angka yang ingin dicari:  3\n"
     ]
    },
    {
     "name": "stdout",
     "output_type": "stream",
     "text": [
      "Nilai yang dicari adalah angka ganjil, tidak dapat ditemukan dalam list genap.\n"
     ]
    }
   ],
   "source": [
    "def binary_search(sorted_list, target):\n",
    "    left, right = 0, len(sorted_list) - 1\n",
    "    \n",
    "    while left <= right:\n",
    "        mid = left + (right - left) // 2\n",
    "        if sorted_list[mid] == target:\n",
    "            return mid\n",
    "        elif sorted_list[mid] < target:\n",
    "            left = mid + 1\n",
    "        else:\n",
    "            right = mid - 1\n",
    "            \n",
    "    return -1\n",
    "\n",
    "def main():\n",
    "    even_numbers = [0, 2, 4, 6, 8, 10, 12, 14, 16, 18, 20]\n",
    "    try:\n",
    "        target = int(input(\"Masukkan angka yang ingin dicari: \"))\n",
    "        if target % 2 != 0:\n",
    "            print(\"Nilai yang dicari adalah angka ganjil, tidak dapat ditemukan dalam list genap.\")\n",
    "        else:\n",
    "            result = binary_search(even_numbers, target)\n",
    "            \n",
    "            if result != -1:\n",
    "                print(f\"Nilai {target} ditemukan pada indeks {result}.\")\n",
    "            else:\n",
    "                print(f\"Nilai {target} tidak ditemukan dalam list genap.\")\n",
    "    except ValueError:\n",
    "        print(\"Masukkan angka yang valid.\")\n",
    "main()\n"
   ]
  }
 ],
 "metadata": {
  "kernelspec": {
   "display_name": "Python 3 (ipykernel)",
   "language": "python",
   "name": "python3"
  },
  "language_info": {
   "codemirror_mode": {
    "name": "ipython",
    "version": 3
   },
   "file_extension": ".py",
   "mimetype": "text/x-python",
   "name": "python",
   "nbconvert_exporter": "python",
   "pygments_lexer": "ipython3",
   "version": "3.12.4"
  }
 },
 "nbformat": 4,
 "nbformat_minor": 5
}
