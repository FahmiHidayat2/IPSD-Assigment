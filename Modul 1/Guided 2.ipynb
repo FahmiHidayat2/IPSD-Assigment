{
 "cells": [
  {
   "cell_type": "code",
   "execution_count": 1,
   "id": "c1bee73d-f855-4e51-8a86-fbbb7ec4b512",
   "metadata": {},
   "outputs": [
    {
     "name": "stdout",
     "output_type": "stream",
     "text": [
      "2 \n",
      "3 5 \n",
      "7 11 13 \n",
      "17 19 23 29 \n",
      "31 37 41 43 47 \n"
     ]
    }
   ],
   "source": [
    "from math import pi\n",
    "\n",
    "jari = 8\n",
    "luas = pi *jari**2\n",
    "keliling = 2*pi*jari\n",
    "print(f\"Luas Lingkaran : {luas} \\nKeliling Lingkaran : {keliling}\")"
   ]
  },
  {
   "cell_type": "code",
   "execution_count": null,
   "id": "0453400c-614a-427e-9b5c-045b3c0fb694",
   "metadata": {},
   "outputs": [],
   "source": []
  }
 ],
 "metadata": {
  "kernelspec": {
   "display_name": "Python 3 (ipykernel)",
   "language": "python",
   "name": "python3"
  },
  "language_info": {
   "codemirror_mode": {
    "name": "ipython",
    "version": 3
   },
   "file_extension": ".py",
   "mimetype": "text/x-python",
   "name": "python",
   "nbconvert_exporter": "python",
   "pygments_lexer": "ipython3",
   "version": "3.12.4"
  }
 },
 "nbformat": 4,
 "nbformat_minor": 5
}
