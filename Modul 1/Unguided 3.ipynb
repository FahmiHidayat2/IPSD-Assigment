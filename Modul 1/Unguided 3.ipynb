{
 "cells": [
  {
   "cell_type": "code",
   "execution_count": 1,
   "id": "c1bee73d-f855-4e51-8a86-fbbb7ec4b512",
   "metadata": {},
   "outputs": [
    {
     "name": "stdout",
     "output_type": "stream",
     "text": [
      "2 \n",
      "3 5 \n",
      "7 11 13 \n",
      "17 19 23 29 \n",
      "31 37 41 43 47 \n"
     ]
    }
   ],
   "source": [
    "def atm_simulation():\n",
    "    correct_pin = \"1234\"\n",
    "    saldo = 1000000\n",
    "    max_attempts = 3\n",
    "    attempts = 0\n",
    "    while attempts < max_attempts:\n",
    "        pin = input(\"Masukkan PIN Anda: \")\n",
    "        if pin == correct_pin:\n",
    "            print(\"PIN benar!\")\n",
    "            break\n",
    "        else:\n",
    "            attempts += 1\n",
    "            print(f\"PIN salah. {max_attempts - attempts} percobaan tersisa.\")\n",
    "    else:\n",
    "        print(\"Anda telah mencapai batas percobaan. Kartu diblokir.\")\n",
    "        return\n",
    "    while True:\n",
    "        try:\n",
    "            tarik = int(input(\"Masukkan jumlah penarikan: \"))\n",
    "            if tarik > saldo:\n",
    "                print(f\"Saldo tidak mencukupi. Saldo Anda: {saldo}\")\n",
    "            else:\n",
    "                saldo -= tarik\n",
    "                print(f\"Penarikan berhasil. Saldo akhir Anda: {saldo}\")\n",
    "                break\n",
    "        except ValueError:\n",
    "            print(\"Masukkan jumlah penarikan yang valid.\")\n",
    "atm_simulation()\n"
   ]
  },
  {
   "cell_type": "code",
   "execution_count": null,
   "id": "0453400c-614a-427e-9b5c-045b3c0fb694",
   "metadata": {},
   "outputs": [],
   "source": []
  }
 ],
 "metadata": {
  "kernelspec": {
   "display_name": "Python 3 (ipykernel)",
   "language": "python",
   "name": "python3"
  },
  "language_info": {
   "codemirror_mode": {
    "name": "ipython",
    "version": 3
   },
   "file_extension": ".py",
   "mimetype": "text/x-python",
   "name": "python",
   "nbconvert_exporter": "python",
   "pygments_lexer": "ipython3",
   "version": "3.12.4"
  }
 },
 "nbformat": 4,
 "nbformat_minor": 5
}
