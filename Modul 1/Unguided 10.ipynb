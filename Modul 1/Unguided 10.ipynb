{
 "cells": [
  {
   "cell_type": "code",
   "execution_count": 1,
   "id": "c1bee73d-f855-4e51-8a86-fbbb7ec4b512",
   "metadata": {},
   "outputs": [
    {
     "name": "stdout",
     "output_type": "stream",
     "text": [
      "2 \n",
      "3 5 \n",
      "7 11 13 \n",
      "17 19 23 29 \n",
      "31 37 41 43 47 \n"
     ]
    }
   ],
   "source": [
    "def binary_search(sorted_list, target):\n",
    "    left, right = 0, len(sorted_list) - 1\n",
    "    \n",
    "    while left <= right:\n",
    "        mid = left + (right - left) // 2\n",
    "        if sorted_list[mid] == target:\n",
    "            return mid\n",
    "        elif sorted_list[mid] < target:\n",
    "            left = mid + 1\n",
    "        else:\n",
    "            right = mid - 1\n",
    "            \n",
    "    return -1\n",
    "\n",
    "def main():\n",
    "    even_numbers = [0, 2, 4, 6, 8, 10, 12, 14, 16, 18, 20]\n",
    "    try:\n",
    "        target = int(input(\"Masukkan angka yang ingin dicari: \"))\n",
    "        if target % 2 != 0:\n",
    "            print(\"Nilai yang dicari adalah angka ganjil, tidak dapat ditemukan dalam list genap.\")\n",
    "        else:\n",
    "            result = binary_search(even_numbers, target)\n",
    "            \n",
    "            if result != -1:\n",
    "                print(f\"Nilai {target} ditemukan pada indeks {result}.\")\n",
    "            else:\n",
    "                print(f\"Nilai {target} tidak ditemukan dalam list genap.\")\n",
    "    except ValueError:\n",
    "        print(\"Masukkan angka yang valid.\")\n",
    "main()\n"
   ]
  },
  {
   "cell_type": "code",
   "execution_count": null,
   "id": "0453400c-614a-427e-9b5c-045b3c0fb694",
   "metadata": {},
   "outputs": [],
   "source": []
  }
 ],
 "metadata": {
  "kernelspec": {
   "display_name": "Python 3 (ipykernel)",
   "language": "python",
   "name": "python3"
  },
  "language_info": {
   "codemirror_mode": {
    "name": "ipython",
    "version": 3
   },
   "file_extension": ".py",
   "mimetype": "text/x-python",
   "name": "python",
   "nbconvert_exporter": "python",
   "pygments_lexer": "ipython3",
   "version": "3.12.4"
  }
 },
 "nbformat": 4,
 "nbformat_minor": 5
}
