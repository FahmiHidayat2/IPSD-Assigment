{
 "cells": [
  {
   "cell_type": "code",
   "execution_count": 1,
   "id": "c1bee73d-f855-4e51-8a86-fbbb7ec4b512",
   "metadata": {},
   "outputs": [
    {
     "name": "stdout",
     "output_type": "stream",
     "text": [
      "2 \n",
      "3 5 \n",
      "7 11 13 \n",
      "17 19 23 29 \n",
      "31 37 41 43 47 \n"
     ]
    }
   ],
   "source": [
    "import random\n",
    "\n",
    "def tebak_angka():\n",
    "    angka_rahasia = random.randint(1, 100)\n",
    "    percobaan = 5\n",
    "\n",
    "    print(\"Selamat datang di permainan Tebak Angka!\")\n",
    "    print(\"Saya telah memilih sebuah angka antara 1 hingga 100.\")\n",
    "    print(f\"Anda memiliki {percobaan} percobaan untuk menebak angka tersebut.\")\n",
    "\n",
    "    for i in range(percobaan):\n",
    "        try:\n",
    "            tebakan = int(input(f\"Tebakan ke-{i + 1}: \"))\n",
    "            \n",
    "            if tebakan < 1 or tebakan > 100:\n",
    "                print(\"Tebakan harus antara 1 dan 100. Silakan coba lagi.\")\n",
    "                continue\n",
    "            \n",
    "            if tebakan < angka_rahasia:\n",
    "                print(\"Tebakan Anda terlalu kecil.\")\n",
    "            elif tebakan > angka_rahasia:\n",
    "                print(\"Tebakan Anda terlalu besar.\")\n",
    "            else:\n",
    "                print(f\"Selamat! Anda berhasil menebak angka {angka_rahasia}!\")\n",
    "                break\n",
    "        except ValueError:\n",
    "            print(\"Masukkan angka yang valid.\")\n",
    "\n",
    "    else:\n",
    "        print(f\"Maaf, Anda telah kehabisan percobaan. Angka yang benar adalah {angka_rahasia}.\")\n",
    "\n",
    "tebak_angka()\n"
   ]
  },
  {
   "cell_type": "code",
   "execution_count": null,
   "id": "0453400c-614a-427e-9b5c-045b3c0fb694",
   "metadata": {},
   "outputs": [],
   "source": []
  }
 ],
 "metadata": {
  "kernelspec": {
   "display_name": "Python 3 (ipykernel)",
   "language": "python",
   "name": "python3"
  },
  "language_info": {
   "codemirror_mode": {
    "name": "ipython",
    "version": 3
   },
   "file_extension": ".py",
   "mimetype": "text/x-python",
   "name": "python",
   "nbconvert_exporter": "python",
   "pygments_lexer": "ipython3",
   "version": "3.12.4"
  }
 },
 "nbformat": 4,
 "nbformat_minor": 5
}
